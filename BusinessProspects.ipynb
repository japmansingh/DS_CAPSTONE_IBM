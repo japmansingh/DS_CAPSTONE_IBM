{
 "cells": [
  {
   "cell_type": "code",
   "execution_count": 25,
   "metadata": {},
   "outputs": [],
   "source": [
    "import requests\n",
    "import pandas as pd\n",
    "import numpy as np\n",
    "import lxml.html as lh\n",
    "import geocoder"
   ]
  },
  {
   "cell_type": "code",
   "execution_count": 6,
   "metadata": {},
   "outputs": [],
   "source": [
    "url=requests.get('https://www.geonames.org/postal-codes/CA/BC/british-columbia.html').text\n",
    "doc = lh.fromstring(url)\n",
    "tr_elements = doc.xpath('//tr')"
   ]
  },
  {
   "cell_type": "code",
   "execution_count": 7,
   "metadata": {},
   "outputs": [],
   "source": [
    "from bs4 import BeautifulSoup\n",
    "soup = BeautifulSoup(url,'lxml')\n",
    "#print(soup.prettify())"
   ]
  },
  {
   "cell_type": "code",
   "execution_count": 8,
   "metadata": {},
   "outputs": [],
   "source": [
    "table=soup.find('table',{ 'class': \"restable\"})\n",
    "#print(table.prettify())"
   ]
  },
  {
   "cell_type": "code",
   "execution_count": 9,
   "metadata": {},
   "outputs": [],
   "source": [
    "postalCode = []\n",
    "placeName = []\n",
    "neighbourhood = []"
   ]
  },
  {
   "cell_type": "code",
   "execution_count": 10,
   "metadata": {},
   "outputs": [
    {
     "output_type": "execute_result",
     "data": {
      "text/plain": "[2, 3, 7, 7, 2, 7, 2]"
     },
     "metadata": {},
     "execution_count": 10
    }
   ],
   "source": [
    "[len(T) for T in tr_elements[:7]]"
   ]
  },
  {
   "cell_type": "code",
   "execution_count": 11,
   "metadata": {},
   "outputs": [],
   "source": [
    "#for row in soup.find('table').find_all('tr'):\n",
    " #   cells=row.find_all('td')\n",
    "  #  if(len(cells)>0):\n",
    "   #     postalCode.append(cells[0].text.rstrip('\\n'))\n",
    "    #    placeName.append(cells[1].text.rstrip('\\n'))\n",
    "     #   neighbourhood.append(cells[2].text.rstrip('\\n'))"
   ]
  },
  {
   "cell_type": "code",
   "execution_count": 21,
   "metadata": {},
   "outputs": [
    {
     "output_type": "execute_result",
     "data": {
      "text/plain": "                                              Locality Code  CodePopulation  \\\n0           Cariboo and West Okanagan (100 Mile House)  V0K           32908   \n1                                 Abbotsford Southeast  V2S           48647   \n2                                 Abbotsford Southwest  V2T           56111   \n3                                      Abbotsford East  V3G           24150   \n4                                      Abbotsford West  V4X           12774   \n..                                                 ...  ...             ...   \n186                                           Westbank  V4T           27996   \n187  North Island, Sunshine Coast, and Southern Gul...  V0N           79501   \n188                                         White Rock  V4B           19952   \n189                                      Williams Lake  V2G           17970   \n190                                           Winfield  V4V           14614   \n\n               City  CityPopulation  \n0    100 Mile House           32908  \n1        Abbotsford          141682  \n2        Abbotsford          141682  \n3        Abbotsford          141682  \n4        Abbotsford          141682  \n..              ...             ...  \n186        Westbank           27996  \n187        Whistler           79501  \n188      White Rock           19952  \n189   Williams Lake           17970  \n190        Winfield           14614  \n\n[191 rows x 5 columns]",
      "text/html": "<div>\n<style scoped>\n    .dataframe tbody tr th:only-of-type {\n        vertical-align: middle;\n    }\n\n    .dataframe tbody tr th {\n        vertical-align: top;\n    }\n\n    .dataframe thead th {\n        text-align: right;\n    }\n</style>\n<table border=\"1\" class=\"dataframe\">\n  <thead>\n    <tr style=\"text-align: right;\">\n      <th></th>\n      <th>Locality</th>\n      <th>Code</th>\n      <th>CodePopulation</th>\n      <th>City</th>\n      <th>CityPopulation</th>\n    </tr>\n  </thead>\n  <tbody>\n    <tr>\n      <th>0</th>\n      <td>Cariboo and West Okanagan (100 Mile House)</td>\n      <td>V0K</td>\n      <td>32908</td>\n      <td>100 Mile House</td>\n      <td>32908</td>\n    </tr>\n    <tr>\n      <th>1</th>\n      <td>Abbotsford Southeast</td>\n      <td>V2S</td>\n      <td>48647</td>\n      <td>Abbotsford</td>\n      <td>141682</td>\n    </tr>\n    <tr>\n      <th>2</th>\n      <td>Abbotsford Southwest</td>\n      <td>V2T</td>\n      <td>56111</td>\n      <td>Abbotsford</td>\n      <td>141682</td>\n    </tr>\n    <tr>\n      <th>3</th>\n      <td>Abbotsford East</td>\n      <td>V3G</td>\n      <td>24150</td>\n      <td>Abbotsford</td>\n      <td>141682</td>\n    </tr>\n    <tr>\n      <th>4</th>\n      <td>Abbotsford West</td>\n      <td>V4X</td>\n      <td>12774</td>\n      <td>Abbotsford</td>\n      <td>141682</td>\n    </tr>\n    <tr>\n      <th>...</th>\n      <td>...</td>\n      <td>...</td>\n      <td>...</td>\n      <td>...</td>\n      <td>...</td>\n    </tr>\n    <tr>\n      <th>186</th>\n      <td>Westbank</td>\n      <td>V4T</td>\n      <td>27996</td>\n      <td>Westbank</td>\n      <td>27996</td>\n    </tr>\n    <tr>\n      <th>187</th>\n      <td>North Island, Sunshine Coast, and Southern Gul...</td>\n      <td>V0N</td>\n      <td>79501</td>\n      <td>Whistler</td>\n      <td>79501</td>\n    </tr>\n    <tr>\n      <th>188</th>\n      <td>White Rock</td>\n      <td>V4B</td>\n      <td>19952</td>\n      <td>White Rock</td>\n      <td>19952</td>\n    </tr>\n    <tr>\n      <th>189</th>\n      <td>Williams Lake</td>\n      <td>V2G</td>\n      <td>17970</td>\n      <td>Williams Lake</td>\n      <td>17970</td>\n    </tr>\n    <tr>\n      <th>190</th>\n      <td>Winfield</td>\n      <td>V4V</td>\n      <td>14614</td>\n      <td>Winfield</td>\n      <td>14614</td>\n    </tr>\n  </tbody>\n</table>\n<p>191 rows × 5 columns</p>\n</div>"
     },
     "metadata": {},
     "execution_count": 21
    }
   ],
   "source": [
    "post_df=pd.read_csv(\"http://localhost/PostalPopulation.csv\", header=None)\n",
    "post_df.columns=['Locality','Code','CodePopulation','City','CityPopulation']\n",
    "post_df.head(200)\n"
   ]
  },
  {
   "cell_type": "code",
   "execution_count": 23,
   "metadata": {},
   "outputs": [
    {
     "output_type": "error",
     "ename": "NameError",
     "evalue": "name 'geocoder' is not defined",
     "traceback": [
      "\u001b[1;31m---------------------------------------------------------------------------\u001b[0m",
      "\u001b[1;31mNameError\u001b[0m                                 Traceback (most recent call last)",
      "\u001b[1;32m<ipython-input-23-ed9a894663c3>\u001b[0m in \u001b[0;36m<module>\u001b[1;34m\u001b[0m\n\u001b[0;32m     13\u001b[0m \u001b[1;33m\u001b[0m\u001b[0m\n\u001b[0;32m     14\u001b[0m \u001b[1;32mfor\u001b[0m \u001b[0mi\u001b[0m \u001b[1;32min\u001b[0m \u001b[0mrange\u001b[0m\u001b[1;33m(\u001b[0m\u001b[1;36m0\u001b[0m\u001b[1;33m,\u001b[0m\u001b[0mlen\u001b[0m\u001b[1;33m(\u001b[0m\u001b[0mpost_df\u001b[0m\u001b[1;33m)\u001b[0m\u001b[1;33m)\u001b[0m\u001b[1;33m:\u001b[0m\u001b[1;33m\u001b[0m\u001b[1;33m\u001b[0m\u001b[0m\n\u001b[1;32m---> 15\u001b[1;33m     \u001b[0mpost_df\u001b[0m\u001b[1;33m[\u001b[0m\u001b[1;34m'Latitude'\u001b[0m\u001b[1;33m]\u001b[0m\u001b[1;33m[\u001b[0m\u001b[0mi\u001b[0m\u001b[1;33m]\u001b[0m\u001b[1;33m,\u001b[0m\u001b[0mpost_df\u001b[0m\u001b[1;33m[\u001b[0m\u001b[1;34m'Longitude'\u001b[0m\u001b[1;33m]\u001b[0m\u001b[1;33m[\u001b[0m\u001b[0mi\u001b[0m\u001b[1;33m]\u001b[0m\u001b[1;33m=\u001b[0m\u001b[0mget_geocoder\u001b[0m\u001b[1;33m(\u001b[0m\u001b[0mpost_df\u001b[0m\u001b[1;33m.\u001b[0m\u001b[0miloc\u001b[0m\u001b[1;33m[\u001b[0m\u001b[0mi\u001b[0m\u001b[1;33m]\u001b[0m\u001b[1;33m[\u001b[0m\u001b[1;34m'Code'\u001b[0m\u001b[1;33m]\u001b[0m\u001b[1;33m)\u001b[0m\u001b[1;33m\u001b[0m\u001b[1;33m\u001b[0m\u001b[0m\n\u001b[0m",
      "\u001b[1;32m<ipython-input-23-ed9a894663c3>\u001b[0m in \u001b[0;36mget_geocoder\u001b[1;34m(postal_code_from_df)\u001b[0m\n\u001b[0;32m      4\u001b[0m      \u001b[1;31m# loop until you get the coordinates\u001b[0m\u001b[1;33m\u001b[0m\u001b[1;33m\u001b[0m\u001b[1;33m\u001b[0m\u001b[0m\n\u001b[0;32m      5\u001b[0m      \u001b[1;32mwhile\u001b[0m\u001b[1;33m(\u001b[0m\u001b[0mlat_lng_coords\u001b[0m \u001b[1;32mis\u001b[0m \u001b[1;32mNone\u001b[0m\u001b[1;33m)\u001b[0m\u001b[1;33m:\u001b[0m\u001b[1;33m\u001b[0m\u001b[1;33m\u001b[0m\u001b[0m\n\u001b[1;32m----> 6\u001b[1;33m        \u001b[0mg\u001b[0m \u001b[1;33m=\u001b[0m \u001b[0mgeocoder\u001b[0m\u001b[1;33m.\u001b[0m\u001b[0mgoogle\u001b[0m\u001b[1;33m(\u001b[0m\u001b[1;34m'{}, Toronto, Ontario'\u001b[0m\u001b[1;33m.\u001b[0m\u001b[0mformat\u001b[0m\u001b[1;33m(\u001b[0m\u001b[0mpostal_code_from_df\u001b[0m\u001b[1;33m)\u001b[0m\u001b[1;33m)\u001b[0m\u001b[1;33m\u001b[0m\u001b[1;33m\u001b[0m\u001b[0m\n\u001b[0m\u001b[0;32m      7\u001b[0m        \u001b[0mlat_lng_coords\u001b[0m \u001b[1;33m=\u001b[0m \u001b[0mg\u001b[0m\u001b[1;33m.\u001b[0m\u001b[0mlatlng\u001b[0m\u001b[1;33m\u001b[0m\u001b[1;33m\u001b[0m\u001b[0m\n\u001b[0;32m      8\u001b[0m      \u001b[0mlatitude\u001b[0m \u001b[1;33m=\u001b[0m \u001b[0mlat_lng_coords\u001b[0m\u001b[1;33m[\u001b[0m\u001b[1;36m0\u001b[0m\u001b[1;33m]\u001b[0m\u001b[1;33m\u001b[0m\u001b[1;33m\u001b[0m\u001b[0m\n",
      "\u001b[1;31mNameError\u001b[0m: name 'geocoder' is not defined"
     ]
    }
   ],
   "source": [
    "def get_geocoder(postal_code_from_df):\n",
    "     # initialize your variable to None\n",
    "     lat_lng_coords = None\n",
    "     # loop until you get the coordinates\n",
    "     while(lat_lng_coords is None):\n",
    "       g = geocoder.google('{}, Toronto, Ontario'.format(postal_code_from_df))\n",
    "       lat_lng_coords = g.latlng\n",
    "     latitude = lat_lng_coords[0]\n",
    "     longitude = lat_lng_coords[1]\n",
    "     return latitude,longitude\n",
    "\n",
    "\n",
    "\n",
    "for i in range(0,len(post_df)):\n",
    "    post_df['Latitude'][i],post_df['Longitude'][i]=get_geocoder(post_df.iloc[i]['Code'])"
   ]
  },
  {
   "cell_type": "code",
   "execution_count": null,
   "metadata": {},
   "outputs": [],
   "source": [
    "post_df['Latitude'], post_df['Longitude'] = zip(*post_df['Postcode'].apply(get_geocoder))\n",
    "post_df"
   ]
  },
  {
   "cell_type": "code",
   "execution_count": null,
   "metadata": {},
   "outputs": [],
   "source": []
  }
 ],
 "metadata": {
  "language_info": {
   "codemirror_mode": {
    "name": "ipython",
    "version": 3
   },
   "file_extension": ".py",
   "mimetype": "text/x-python",
   "name": "python",
   "nbconvert_exporter": "python",
   "pygments_lexer": "ipython3",
   "version": "3.8.2-final"
  },
  "orig_nbformat": 2,
  "kernelspec": {
   "name": "python38232bita2c3eb9c10c448b7b36732dfecfea4df",
   "display_name": "Python 3.8.2 32-bit"
  }
 },
 "nbformat": 4,
 "nbformat_minor": 2
}